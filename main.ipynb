{
 "cells": [
  {
   "cell_type": "markdown",
   "metadata": {},
   "source": [
    "# Модель городского транспорта с использованием каршэринга"
   ]
  },
  {
   "cell_type": "markdown",
   "metadata": {},
   "source": [
    "В данной работе мы рассмотрим модель городского транспорта, в которой помимо общественного и личного транспорта существует каршэринг."
   ]
  },
  {
   "cell_type": "markdown",
   "metadata": {},
   "source": [
    "## Общественный транспорт "
   ]
  },
  {
   "cell_type": "markdown",
   "metadata": {},
   "source": [
    "Затраты на общественный транспорт мы можем описать функцией:"
   ]
  },
  {
   "cell_type": "markdown",
   "metadata": {},
   "source": [
    "$$B_p = b_1 + pb_2 $$"
   ]
  },
  {
   "cell_type": "markdown",
   "metadata": {},
   "source": [
    "## Личный транспорт"
   ]
  },
  {
   "cell_type": "markdown",
   "metadata": {},
   "source": [
    "Затраты на личный транспорт мы можем описать функцией:"
   ]
  },
  {
   "cell_type": "markdown",
   "metadata": {},
   "source": [
    "$$A_p(x) = a + pT(x) $$"
   ]
  },
  {
   "cell_type": "markdown",
   "metadata": {},
   "source": [
    "где $T(x)$ - время, проведённое в дороге, $p$ - цена одной минуты, $x$ - доля людей, которая воспользовалась автомобилями, $а$ - цена постоянных расходов (на парковку, бензин и т.д.)"
   ]
  },
  {
   "cell_type": "markdown",
   "metadata": {},
   "source": [
    "## Каршэринг"
   ]
  },
  {
   "cell_type": "markdown",
   "metadata": {},
   "source": [
    "Затраты на каршэринг мы будем описывать функцией:"
   ]
  },
  {
   "cell_type": "markdown",
   "metadata": {},
   "source": [
    "$$C_p(x, x_1) = pT(x) + uT(x) + pS(x_1)$$"
   ]
  },
  {
   "cell_type": "markdown",
   "metadata": {},
   "source": [
    "где $u$ - стоимость одной минуты каршэринга, $x_1$ - доля людей, которая воспользовалась каршэрингом, $S(x_1)$ - количество времени, которое потрачено на поиск свободной машины, $x$ - доля всех людей, которые воспользовались автомобилями"
   ]
  },
  {
   "cell_type": "markdown",
   "metadata": {},
   "source": [
    "# Модель равновесия"
   ]
  },
  {
   "cell_type": "markdown",
   "metadata": {},
   "source": [
    "Для начала определим, какой вид имеет функция $S(x_1)$. Эта функция должна монотонно возрастать с ростом $x_1$ (чем больше людей взяли машину на прокат, тем сложнее найти свободную, т.к. их локально ограниченное количество). Для начала возьмём простой случай, когда $S(x_1) = \\alpha x_1$"
   ]
  },
  {
   "cell_type": "markdown",
   "metadata": {},
   "source": [
    "Основное предположение, которое будет использоваться в нашей модели, будет основано на том, что в самом начале человек делает выбор между общественным транспортом и автомобилем, а потом, если он выбрал автомобиль, то он делает выбор между каршерингом или личным транспортом т.е. мы тут имеем дело с двуступенчатым выбором. "
   ]
  },
  {
   "cell_type": "markdown",
   "metadata": {},
   "source": [
    "Основываясь на этом предположении, мы будем считать, что цена в $k+1$ день $p_{k+1}$ будет устанавливаться исходя из равенства затрат на общественный транспорт и СРЕДНИХ затрат на автомобиль (т.е. сначала человек прикидывает насколько ему выгодно ехать на машине в среднем):"
   ]
  },
  {
   "cell_type": "markdown",
   "metadata": {},
   "source": [
    "$$b_1 + b_2 p_{k+1} = (1 - \\lambda) \\Big(a + p_{k+1} T(x_k)\\Big) + \\lambda \\Big(p_{k+1}T(x_k) + uT(x_k) + p_{k+1}\\alpha x_1^k\\Big)$$"
   ]
  },
  {
   "cell_type": "markdown",
   "metadata": {},
   "source": [
    "$0 \\leq \\lambda \\leq 1$ -- коэффициент усреднения, $x_k$ - доля людей, которая воспользовалась автомобилями в $k$-ый день, $x_1^k$ - доля людей, которая воспользовалась каршэринглм в $k$-ый день (т.е. личным транспортом воспользовалось $x_k - x_1^k$)"
   ]
  },
  {
   "cell_type": "markdown",
   "metadata": {},
   "source": [
    "Выражаем $p_{k+1}$:"
   ]
  },
  {
   "cell_type": "markdown",
   "metadata": {},
   "source": [
    "$$p_{k+1} = \\frac{a - b_1 + \\lambda \\Big(uT(x_k) - a\\Big)}{b_2 - T(x_k) - \\lambda \\alpha x_1^k}$$"
   ]
  },
  {
   "cell_type": "markdown",
   "metadata": {},
   "source": [
    "Долю людей в $k+1$-ый день, которая воспользовалась автомобилями будет определятся из равенства:"
   ]
  },
  {
   "cell_type": "markdown",
   "metadata": {},
   "source": [
    "$$x_{k+1} = \\min \\Big(p_{k+1}^{-\\eta}, 1 \\Big)$$"
   ]
  },
  {
   "cell_type": "markdown",
   "metadata": {},
   "source": [
    "А доля людей, которая выбрала каршэринг будет определяться из условия равновесия при выборе автомобиля"
   ]
  },
  {
   "cell_type": "markdown",
   "metadata": {},
   "source": [
    "$$p_{k+1}T(x_{k+1}) + uT(x_{k+1}) + p_{k+1}\\alpha x_1^{k+1} = a + p_{k+1}T(x_{k+1})$$"
   ]
  },
  {
   "cell_type": "markdown",
   "metadata": {},
   "source": [
    "$$x_1^{k+1} = \\frac{1}{\\alpha p_{k+1}} \\Big(a - uT(x_{k+1})\\Big)$$"
   ]
  }
 ],
 "metadata": {
  "kernelspec": {
   "display_name": "Python 3",
   "language": "python",
   "name": "python3"
  },
  "language_info": {
   "codemirror_mode": {
    "name": "ipython",
    "version": 3
   },
   "file_extension": ".py",
   "mimetype": "text/x-python",
   "name": "python",
   "nbconvert_exporter": "python",
   "pygments_lexer": "ipython3",
   "version": "3.6.3"
  }
 },
 "nbformat": 4,
 "nbformat_minor": 2
}
